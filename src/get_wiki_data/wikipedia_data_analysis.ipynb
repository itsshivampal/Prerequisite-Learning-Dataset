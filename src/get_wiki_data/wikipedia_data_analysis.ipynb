{
 "cells": [
  {
   "cell_type": "code",
   "execution_count": 1,
   "metadata": {},
   "outputs": [],
   "source": [
    "import pandas as pd\n",
    "import wikipedia\n",
    "import random\n",
    "import os"
   ]
  },
  {
   "cell_type": "code",
   "execution_count": 2,
   "metadata": {},
   "outputs": [],
   "source": [
    "df = pd.read_csv(\"geometry_wikipedia_data.csv\")"
   ]
  },
  {
   "cell_type": "code",
   "execution_count": 4,
   "metadata": {},
   "outputs": [],
   "source": []
  },
  {
   "cell_type": "code",
   "execution_count": 5,
   "metadata": {},
   "outputs": [],
   "source": [
    "topic = df[\"topic\"].values\n",
    "title = df[\"wiki_title\"].values\n",
    "\n",
    "unmatch = []\n",
    "for i in range(len(topic)):\n",
    "    if topic[i] != title[i]:\n",
    "        unmatch.append([topic[i], title[i]])"
   ]
  },
  {
   "cell_type": "code",
   "execution_count": 6,
   "metadata": {},
   "outputs": [
    {
     "data": {
      "text/plain": [
       "[['Nonagon', nan],\n",
       " ['Angle', 'Angel'],\n",
       " ['Cone', nan],\n",
       " ['Pentagon', 'The Pentagon'],\n",
       " ['Sphere', 'Shore'],\n",
       " ['Cylinder (geometry)', 'Cylinder'],\n",
       " ['Special right triangles', 'Special right triangle'],\n",
       " ['Sine', 'Sin'],\n",
       " ['Bisection', 'Bisection method'],\n",
       " ['Concentric', 'Concentric objects'],\n",
       " ['Internal and external angle', 'Internal and external angles']]"
      ]
     },
     "execution_count": 6,
     "metadata": {},
     "output_type": "execute_result"
    }
   ],
   "source": [
    "unmatch"
   ]
  },
  {
   "cell_type": "code",
   "execution_count": null,
   "metadata": {},
   "outputs": [],
   "source": [
    "title_correction = {\n",
    "    0: {\n",
    "        \"topic\": \"Nonagon\",\n",
    "        \"title\": \"Nonagon (geometry)\"\n",
    "    },\n",
    "    1: {\n",
    "        \"topic\": \"Angle\",\n",
    "        \"title\": \"Angle (geometry)\"\n",
    "    },\n",
    "    2: {\n",
    "        \"topic\": \"Cone\",\n",
    "        \"title\": \"Cone (geometry)\"\n",
    "    },\n",
    "    3: {\n",
    "        \"topic\": \"Pentagon\",\n",
    "        \"title\": \"Pentagon (geometry)\"\n",
    "    },\n",
    "    4: {\n",
    "        \"topic\": \"Sphere\",\n",
    "        \"title\": \"Sphere (geometry)\"\n",
    "    },\n",
    "    5: {\n",
    "        \"topic\": \"Bisection\",\n",
    "        \"title\": \"Bisection (geometry)\"\n",
    "    },\n",
    "    6: {\n",
    "        \"topic\": \"Sine\",\n",
    "        \"title\": \"Sine (geometry)\"\n",
    "    }\n",
    "}"
   ]
  },
  {
   "cell_type": "code",
   "execution_count": null,
   "metadata": {},
   "outputs": [],
   "source": [
    "Nonagon (geometry)\n",
    "angle (geometry)\n",
    "Cone (geometry)\n",
    "Pentagon (geometry)\n",
    "Sphere (geometry)\n",
    "Bisection (geometry)"
   ]
  },
  {
   "cell_type": "code",
   "execution_count": 2,
   "metadata": {},
   "outputs": [
    {
     "data": {
      "text/plain": [
       "['Sine',\n",
       " 'Sine wave',\n",
       " 'Siné',\n",
       " 'SINE',\n",
       " 'Trigonometric functions',\n",
       " 'Sine Mora',\n",
       " 'Sine (disambiguation)',\n",
       " 'Law of sines',\n",
       " 'Power inverter',\n",
       " 'Sine bar']"
      ]
     },
     "execution_count": 2,
     "metadata": {},
     "output_type": "execute_result"
    }
   ],
   "source": [
    "wikipedia.search(\"Sine\")"
   ]
  },
  {
   "cell_type": "code",
   "execution_count": 3,
   "metadata": {},
   "outputs": [
    {
     "data": {
      "text/plain": [
       "<WikipediaPage 'Sine'>"
      ]
     },
     "execution_count": 3,
     "metadata": {},
     "output_type": "execute_result"
    }
   ],
   "source": [
    "wikipedia.page(\"Sine (geometry)\")"
   ]
  },
  {
   "cell_type": "code",
   "execution_count": null,
   "metadata": {},
   "outputs": [],
   "source": []
  },
  {
   "cell_type": "code",
   "execution_count": 5,
   "metadata": {},
   "outputs": [],
   "source": [
    "df1 = pd.read_csv(\"../../output_files/geometry_correct_wikipedia_data.csv\")"
   ]
  },
  {
   "cell_type": "code",
   "execution_count": 6,
   "metadata": {},
   "outputs": [],
   "source": [
    "topic = df1[\"topic\"].values\n",
    "title = df1[\"wiki_title\"].values\n",
    "\n",
    "unmatch = []\n",
    "for i in range(len(topic)):\n",
    "    if topic[i] != title[i]:\n",
    "        unmatch.append([topic[i], title[i]])"
   ]
  },
  {
   "cell_type": "code",
   "execution_count": 7,
   "metadata": {},
   "outputs": [
    {
     "data": {
      "text/plain": [
       "[['Cylinder (geometry)', 'Cylinder'],\n",
       " ['Special right triangles', 'Special right triangle'],\n",
       " ['Concentric', 'Concentric objects'],\n",
       " ['Internal and external angle', 'Internal and external angles']]"
      ]
     },
     "execution_count": 7,
     "metadata": {},
     "output_type": "execute_result"
    }
   ],
   "source": [
    "unmatch"
   ]
  }
 ],
 "metadata": {
  "kernelspec": {
   "display_name": "Python 3",
   "language": "python",
   "name": "python3"
  },
  "language_info": {
   "codemirror_mode": {
    "name": "ipython",
    "version": 3
   },
   "file_extension": ".py",
   "mimetype": "text/x-python",
   "name": "python",
   "nbconvert_exporter": "python",
   "pygments_lexer": "ipython3",
   "version": "3.8.2"
  }
 },
 "nbformat": 4,
 "nbformat_minor": 4
}
