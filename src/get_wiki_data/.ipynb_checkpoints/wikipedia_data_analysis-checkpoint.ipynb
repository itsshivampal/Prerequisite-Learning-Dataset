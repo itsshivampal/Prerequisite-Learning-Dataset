{
 "cells": [
  {
   "cell_type": "code",
   "execution_count": 1,
   "metadata": {},
   "outputs": [],
   "source": [
    "import pandas as pd\n",
    "import wikipedia\n",
    "import random\n",
    "import os"
   ]
  },
  {
   "cell_type": "code",
   "execution_count": 2,
   "metadata": {},
   "outputs": [],
   "source": [
    "df = pd.read_csv(\"geometry_wikipedia_data.csv\")"
   ]
  },
  {
   "cell_type": "code",
   "execution_count": 4,
   "metadata": {},
   "outputs": [],
   "source": [
    "topic = df[\"topic\"].values\n",
    "title = df[\"wiki_title\"].values"
   ]
  },
  {
   "cell_type": "code",
   "execution_count": 5,
   "metadata": {},
   "outputs": [],
   "source": [
    "unmatch = []\n",
    "for i in range(len(topic)):\n",
    "    if topic[i] != title[i]:\n",
    "        unmatch.append([topic[i], title[i]])"
   ]
  },
  {
   "cell_type": "code",
   "execution_count": 6,
   "metadata": {},
   "outputs": [
    {
     "data": {
      "text/plain": [
       "[['Nonagon', nan],\n",
       " ['Angle', 'Angel'],\n",
       " ['Cone', nan],\n",
       " ['Pentagon', 'The Pentagon'],\n",
       " ['Sphere', 'Shore'],\n",
       " ['Cylinder (geometry)', 'Cylinder'],\n",
       " ['Special right triangles', 'Special right triangle'],\n",
       " ['Sine', 'Sin'],\n",
       " ['Bisection', 'Bisection method'],\n",
       " ['Concentric', 'Concentric objects'],\n",
       " ['Internal and external angle', 'Internal and external angles']]"
      ]
     },
     "execution_count": 6,
     "metadata": {},
     "output_type": "execute_result"
    }
   ],
   "source": [
    "unmatch"
   ]
  },
  {
   "cell_type": "code",
   "execution_count": null,
   "metadata": {},
   "outputs": [],
   "source": [
    "Nonagon (geometry)\n",
    "angle (geometry)\n",
    "Cone (geometry)\n",
    "Pentagon (geometry)\n",
    "Sphere (geometry)\n",
    "Bisection (geometry)"
   ]
  },
  {
   "cell_type": "code",
   "execution_count": 24,
   "metadata": {},
   "outputs": [
    {
     "data": {
      "text/plain": [
       "['Concentric objects',\n",
       " 'Concentric hypertrophy',\n",
       " 'Concentric castle',\n",
       " 'Concentric reducer',\n",
       " 'Muscle contraction',\n",
       " 'Balo concentric sclerosis',\n",
       " 'Concentric zone model',\n",
       " 'Concentric (disambiguation)',\n",
       " 'Concentric Sky',\n",
       " 'Isotonic contraction']"
      ]
     },
     "execution_count": 24,
     "metadata": {},
     "output_type": "execute_result"
    }
   ],
   "source": [
    "wikipedia.search(\"Concentric\")"
   ]
  },
  {
   "cell_type": "code",
   "execution_count": 23,
   "metadata": {},
   "outputs": [
    {
     "data": {
      "text/plain": [
       "<WikipediaPage 'Concentric objects'>"
      ]
     },
     "execution_count": 23,
     "metadata": {},
     "output_type": "execute_result"
    }
   ],
   "source": [
    "wikipedia.page(\"Concentric (geometry)\")"
   ]
  }
 ],
 "metadata": {
  "kernelspec": {
   "display_name": "Python 3",
   "language": "python",
   "name": "python3"
  },
  "language_info": {
   "codemirror_mode": {
    "name": "ipython",
    "version": 3
   },
   "file_extension": ".py",
   "mimetype": "text/x-python",
   "name": "python",
   "nbconvert_exporter": "python",
   "pygments_lexer": "ipython3",
   "version": "3.8.2"
  }
 },
 "nbformat": 4,
 "nbformat_minor": 4
}
